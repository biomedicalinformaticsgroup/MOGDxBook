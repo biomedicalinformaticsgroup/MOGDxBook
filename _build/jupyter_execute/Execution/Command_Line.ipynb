{
 "cells": [
  {
   "cell_type": "markdown",
   "id": "3bf3bb0b",
   "metadata": {},
   "source": [
    "# Running on Command Line\n",
    "For parallel training of multiple models on a cluster, the interactive MOGDx notebook was modularised and optimised. The setup between the R and Python workflows differ slightly, thus two command line interfaces are provided. \n",
    "\n",
    "## Setup from R Workflow\n",
    "Ensure all expression and meta files for all modalities are in a single folder with naming convention `modality_datExpr.csv`/`modality_datMeta.csv` e.g. `mRNA_datExpr.csv`/`mRNA_datMeta.csv`. \n",
    "\n",
    "Ensure all graph/network files are in a single folder with naming convention `modality_graph.csv` e.g. `mRNA_graph.csv`\n",
    "\n",
    "If performing an analysis on integrated modalities ensure all expression and meta files for the integrated modalities are in the folder. \n",
    "\n",
    "e.g. if analysing mRNA & miRNA, ensure mRNA_miRNA_graph.csv , datMeta_mRNA.csv, datMeta_miRNA.csv, datExpr_mRNA.csv and datExper_miRNA.csv are in the same folder. \n",
    "\n",
    "This process will have been done automatically by the creation of the raw folder and running of SNF.R and it is easiest to retain this folder.\n",
    "\n",
    "## Setup from Python Workflow\n",
    "Ensure all pkl files are in a single folder with naming convention `{modality}_processed.pkl` e.g. `mRNA_processed.pkl`. \n",
    "\n",
    "Ensure all graph/network files are in a single folder with naming convention `{modality}_graph.csv` e.g. `mRNA_graph.csv`. \n",
    "\n",
    "If performing an analysis on integrated modalities ensure all expression and meta files for the integrated modalities are in the correct folder. \n",
    "\n",
    "## Execution Command\n",
    "\n",
    "MOGDx is a command line tool. A sample command is : \\\n",
    "`python MOGDx.py -i \"/raw_data/raw_BRCA\" -o \"./Output/BRCA/\"  -mod \"mRNA\" \"miRNA\" --R  --n-splits 5 -ld 32 16 --target \"paper_BRCA_Subtype_PAM50\" --index-col \"patient\" --epochs 2000 --lr 0.001 --h-feats 64 --decoder-dim 64`\n",
    "\n",
    "-i is the location of the raw data containing all datExpr, datMeta and graph.csv files \\\n",
    "-o is the location where the output will be printed \\\n",
    "-mods is the modalities to include in the integration  \\\n",
    "--R specifies that the data was generated using the R workflow (default Python) \\\n",
    "--n-splits is the number of cross validation splits \\\n",
    "-ld is the latent dimension per modality. It is order alphabetically thus, mRNA will be compressed to dim of 32 and miRNA to 16  \\\n",
    "--target is the phenotype being classified \\\n",
    "--index-col is the column containing the patient ids  \n",
    "\n",
    "All other arguments are related to the Graph Convolutional Network with Multi Modal Encoder"
   ]
  }
 ],
 "metadata": {
  "jupytext": {
   "formats": "md:myst",
   "text_representation": {
    "extension": ".md",
    "format_name": "myst",
    "format_version": 0.13,
    "jupytext_version": "1.11.5"
   }
  },
  "kernelspec": {
   "display_name": "Python 3",
   "language": "python",
   "name": "python3"
  },
  "source_map": [
   13
  ]
 },
 "nbformat": 4,
 "nbformat_minor": 5
}