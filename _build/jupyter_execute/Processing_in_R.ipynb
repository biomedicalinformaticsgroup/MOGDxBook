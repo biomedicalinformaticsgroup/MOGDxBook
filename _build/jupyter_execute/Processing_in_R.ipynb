{
 "cells": [
  {
   "cell_type": "markdown",
   "id": "215b50b6",
   "metadata": {},
   "source": [
    "# Processing in R\n",
    "\n",
    "## Step 1 - Preprocessing\n",
    "Create a folder called for the dataset e.g. TCGA, and within this folder create a folder for each project.\n",
    "\n",
    "Run the R script `Preprocessing.R` specifying the phenotypical trait and project, checking to ensure the paths point to the created `data` folder. \n",
    "\n",
    "Save each modalities processed folder with naming convention `modality_processed.RData`.\n",
    "\n",
    "The options are \\\n",
    "BRCA : \\\n",
    "project = 'BRCA' \\\n",
    "trait = 'paper_paper_BRCA_Subtype_PAM50' \n",
    "\n",
    "LGG : \\\n",
    "project = 'LGG' \\\n",
    "trait = 'paper_Grade' \n",
    "\n",
    "KIPAN :  \\\n",
    "project = 'KIPAN' \\\n",
    "trait = 'subtype' \n",
    "\n",
    "## Step 2 - Graph Generation\n",
    "Point the knn_graph_generation.R to the project folder containing the processed modalities.\n",
    "\n",
    "Create a folder called raw. This is the folder from which MOGDx will be run.\n",
    "\n",
    "Use the R script `knn_graph_generation.R` specifying the phenotypical trait, project and modalities downloaded in the for loop.\n",
    "\n",
    "## Step 3 - SNF\n",
    "Create a folder called Network outside data \\\n",
    "Copy each modalities `modality_graph.csv` to this folder \\\n",
    "\n",
    "Specify the modalities of interest in the list `mod_list` \n",
    "\n",
    "Point the SNF script to the new Network folder\n",
    "\n",
    "Run the R script `SNF.R` \n",
    "\n",
    "## Example of directory structure for TCGA\n",
    "- data\n",
    "  - TCGA-BRCA\n",
    "     - mRNA\n",
    "       - mRNA.rda\n",
    "     - miRNA\n",
    "       - miRNA.rda\n",
    "    - processed\n",
    "      - mRNA_processed.RData\n",
    "      - miRNA_processed.RData\n",
    "  - raw\n",
    "    - datExpr_mRNA.csv\n",
    "    - datMeta_mRNA.csv\n",
    "    - datExpr_miRNA.csv\n",
    "    - datMeta_miRNA.csv\n",
    "  - Network\n",
    "    - mRNA_graph.csv\n",
    "    - miRNA_graph.csv\n",
    "    - mRNA_miRNA_graph.csv"
   ]
  }
 ],
 "metadata": {
  "jupytext": {
   "formats": "md:myst",
   "text_representation": {
    "extension": ".md",
    "format_name": "myst",
    "format_version": 0.13,
    "jupytext_version": "1.11.5"
   }
  },
  "kernelspec": {
   "display_name": "Python 3",
   "language": "python",
   "name": "python3"
  },
  "source_map": [
   13
  ]
 },
 "nbformat": 4,
 "nbformat_minor": 5
}