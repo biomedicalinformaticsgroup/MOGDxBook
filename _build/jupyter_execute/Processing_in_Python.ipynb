{
 "cells": [
  {
   "cell_type": "markdown",
   "id": "f6a56446",
   "metadata": {},
   "source": [
    "# Processing in Python\n",
    "These files provide the steps for extracting informative features of each modality, generating a network per modality and performing Similarity Network Fusion (SNF). \n",
    "\n",
    "Prior to performing processing in python, each modality is required to be saved in the format `{modality}_preprocessed.pkl`. See [GettingStarted](./GettingStarted.md) for more. \n",
    "\n",
    "## Step 1 - Preprocessing\n",
    "Create a folder called for the dataset called `data` and within this folder copy the preprocessed data into a folder name e.g. TCGA-BRCA.\n",
    "\n",
    "Run `Preprocessing.ipynb` for each modality of interest. There are two options for the feature extraction at this stage. Either differential gene expression or elastic net regression. \n",
    "\n",
    "Save each modalities processed folder with naming convention `{modality}_processed.pkl` in the `data/raw`\n",
    "Save each network with naming convention `{modality}_graph.graphml` in the `data/Network` folder\n",
    "\n",
    "The options are \\\n",
    "BRCA : \\\n",
    "target = 'paper_paper_BRCA_Subtype_PAM50' \n",
    "\n",
    "LGG : \\\n",
    "target = 'paper_Grade' \n",
    "\n",
    "KIPAN :  \\\n",
    "target = 'subtype' \n",
    "\n",
    "## Step 2 - Similarity Network Fusion\n",
    "Create a folder called Network outside data \\\n",
    "\n",
    "Specify the modalities of interest in the list `modalities` \n",
    "\n",
    "Point the SNF script to the new Network folder\n",
    "\n",
    "Run the cell to perofrm SNF for the modalities of interest. \n",
    "\n",
    "## Example of directory structure for TCGA-BRCA\n",
    "- data\n",
    "  - TCGA-BRCA\n",
    "     - mRNA\n",
    "       - mRNA.pkl\n",
    "     - miRNA\n",
    "       - miRNA.pkl\n",
    "  - raw\n",
    "    - mRNA_processed.pkl\n",
    "    - miRNA_processed.pkl\n",
    "  - Network\n",
    "    - mRNA_graph.graphml\n",
    "    - miRNA_graph.graphml\n",
    "    - mRNA_miRNA_graph.graphml"
   ]
  }
 ],
 "metadata": {
  "jupytext": {
   "formats": "md:myst",
   "text_representation": {
    "extension": ".md",
    "format_name": "myst",
    "format_version": 0.13,
    "jupytext_version": "1.11.5"
   }
  },
  "kernelspec": {
   "display_name": "Python 3",
   "language": "python",
   "name": "python3"
  },
  "source_map": [
   13
  ]
 },
 "nbformat": 4,
 "nbformat_minor": 5
}