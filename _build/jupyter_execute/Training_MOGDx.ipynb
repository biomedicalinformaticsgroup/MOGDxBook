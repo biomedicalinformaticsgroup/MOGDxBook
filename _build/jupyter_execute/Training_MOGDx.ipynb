{
 "cells": [
  {
   "cell_type": "markdown",
   "id": "02abb964",
   "metadata": {},
   "source": [
    "# MOGDx Main Functions and Classes\n",
    "We provide a description of the main functions and classes used to train a MOGDx model. \n",
    "\n",
    "## Graph Neural Network with Multi Modal Encoder (GNN-MME)\n",
    "The GNN-MME is the main component in the architecture of MOGDx. It consists of a Multi-Modal Encoder (MME) to reduce the dimension of the input modalities and decodes all modalities to a shared latent space. \n",
    "\n",
    "Along with the MME there is a Graph Neural Network (GNN). Currently there are two GNN's implemented ; Graph Convolutional Network (GCN) for applications in the transductive setting and GraphSage for applications in the inductive setting. Both algorithms are implemented using the Deep Graph Library ([DGL](https://www.dgl.ai/)). \n",
    "\n",
    "```{image} ./images/gcn-mme.png\n",
    ":alt: fishy\n",
    ":width: 1200px\n",
    ":align: left\n",
    "```\n",
    "\n",
    "### Multi Modal Encoder\n",
    "The MME takes any number of modalities and compresses them to an arbitrary dimension, found through hyperparameter searching. The architecture for the MME has been established in similar research in {cite:p}`yang_subtype-gan_2021` and {cite:p}`xu_hierarchical_2019`. \n",
    "\n",
    "### Graph Convolutional Network (GCN)\n",
    "GCN, developed by {cite:p}`kipf_semi-supervised_2017`, was implemented from the DGL. For a tutorial on the use of GCN's we refer you to the [DGL Tutorial Page](https://docs.dgl.ai/en/1.1.x/tutorials/blitz/1_introduction.html#sphx-glr-tutorials-blitz-1-introduction-py)\n",
    "\n",
    "```{image} ./images/gcn.png\n",
    ":alt: fishy\n",
    ":width: 1200px\n",
    ":align: left\n",
    "```\n",
    "\n",
    "### GraphSage\n",
    "GraphSage, developed by {cite:p}`hamilton_inductive_2017`, was implemented from the DGL. For a tutorial on the use of GraphSage we refer you to the [DGL Tutorial Page](https://docs.dgl.ai/en/0.8.x/tutorials/blitz/4_link_predict.html)\n",
    "\n",
    "```{image} ./images/gsage.png\n",
    ":alt: fishy\n",
    ":width: 1200px\n",
    ":align: left\n",
    "```\n",
    "\n",
    "## Training\n",
    "Functions used to train and evaluate the MOGDx model. The training implemented follows that outlined by {cite:p}`hamilton_graph_2020`.\n",
    "\n",
    "The list of functions are : \n",
    "- train\n",
    "- evaluate\n",
    "- confusion_matrix\n",
    "- AUROC\n",
    "\n",
    "## Utility\n",
    "Utility functions used to parse input data, load networks from csv or perform utility tasks. \n",
    "\n",
    "The list of functions are : \n",
    "- data_parsing_python\n",
    "- data_parsing_R\n",
    "- get_gpu_memory\n",
    "- indices_removal_adjust\n",
    "- network_from_csv\n",
    "\n",
    "## Citations\n",
    "```{bibliography}\n",
    ":filter: docname in docnames\n",
    "```"
   ]
  }
 ],
 "metadata": {
  "jupytext": {
   "formats": "md:myst",
   "text_representation": {
    "extension": ".md",
    "format_name": "myst",
    "format_version": 0.13,
    "jupytext_version": "1.11.5"
   }
  },
  "kernelspec": {
   "display_name": "Python 3",
   "language": "python",
   "name": "python3"
  },
  "source_map": [
   13
  ]
 },
 "nbformat": 4,
 "nbformat_minor": 5
}